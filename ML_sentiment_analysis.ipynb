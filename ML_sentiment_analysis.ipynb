{
  "nbformat": 4,
  "nbformat_minor": 0,
  "metadata": {
    "colab": {
      "provenance": []
    },
    "kernelspec": {
      "name": "python3",
      "display_name": "Python 3"
    },
    "language_info": {
      "name": "python"
    }
  },
  "cells": [
    {
      "cell_type": "code",
      "execution_count": null,
      "metadata": {
        "id": "K3qWJAETTIG7"
      },
      "outputs": [],
      "source": [
        "import pandas as pd\n",
        "import numpy as np\n",
        "import tensorflow as tf\n",
        "import requests\n",
        "import keras\n",
        "from keras.layers import Embedding, Flatten, Dense\n",
        "from keras.preprocessing.text import Tokenizer\n",
        "from keras.models import Sequential\n",
        "from keras.utils import pad_sequences"
      ]
    },
    {
      "cell_type": "code",
      "source": [
        "df = pd.read_csv(\"/content/cyberbullying_tweets.csv\")\n",
        "df.info()"
      ],
      "metadata": {
        "colab": {
          "base_uri": "https://localhost:8080/"
        },
        "id": "axelJqx-TgMk",
        "outputId": "4bfe53f6-3b18-4638-c91d-223929db1ea4"
      },
      "execution_count": null,
      "outputs": [
        {
          "output_type": "stream",
          "name": "stdout",
          "text": [
            "<class 'pandas.core.frame.DataFrame'>\n",
            "RangeIndex: 47692 entries, 0 to 47691\n",
            "Data columns (total 2 columns):\n",
            " #   Column              Non-Null Count  Dtype \n",
            "---  ------              --------------  ----- \n",
            " 0   tweet_text          47692 non-null  object\n",
            " 1   cyberbullying_type  47692 non-null  object\n",
            "dtypes: object(2)\n",
            "memory usage: 745.3+ KB\n"
          ]
        }
      ]
    },
    {
      "cell_type": "code",
      "source": [
        "df['cyberbullying_type'].unique()"
      ],
      "metadata": {
        "colab": {
          "base_uri": "https://localhost:8080/"
        },
        "id": "NAL1p08YTn9n",
        "outputId": "5d4edcd9-5009-4721-c5e6-16d77fca957c"
      },
      "execution_count": null,
      "outputs": [
        {
          "output_type": "execute_result",
          "data": {
            "text/plain": [
              "array(['not_cyberbullying', 'gender', 'religion', 'other_cyberbullying',\n",
              "       'age', 'ethnicity'], dtype=object)"
            ]
          },
          "metadata": {},
          "execution_count": 4
        }
      ]
    },
    {
      "cell_type": "code",
      "source": [
        "def func(label):\n",
        "  if label == 'not_cyberbullying':\n",
        "    return 0\n",
        "  else:\n",
        "    return 1"
      ],
      "metadata": {
        "id": "wwwnHbu9T-T7"
      },
      "execution_count": null,
      "outputs": []
    },
    {
      "cell_type": "code",
      "source": [
        "df['cyberbullying_type'] = df['cyberbullying_type'].apply(func)"
      ],
      "metadata": {
        "id": "EcwRP6BtVPTm"
      },
      "execution_count": null,
      "outputs": []
    },
    {
      "cell_type": "code",
      "source": [
        "def clean(tweet):\n",
        "    tweet = re.sub(r'@\\w+', '', tweet)\n",
        "    tweet = re.sub(r'#\\w+','',tweet)\n",
        "    return tweet\n",
        "\n",
        "df['tweet_text'] = df['tweet_text'].apply(clean)"
      ],
      "metadata": {
        "id": "l0u498HvYhGg"
      },
      "execution_count": null,
      "outputs": []
    },
    {
      "cell_type": "code",
      "source": [
        "from sklearn.model_selection import train_test_split\n",
        "train_df, test_df = train_test_split(df, test_size=0.2, random_state=42)\n",
        "x_train = train_df['tweet_text']\n",
        "y_train = train_df['cyberbullying_type']\n",
        "x_test = test_df['tweet_text']\n",
        "y_test = test_df['cyberbullying_type']\n"
      ],
      "metadata": {
        "id": "lfmWItKfVndn"
      },
      "execution_count": null,
      "outputs": []
    },
    {
      "cell_type": "code",
      "source": [
        "tok = Tokenizer(num_words=42654, oov_token='[UNK]')\n",
        "tok.fit_on_texts (x_train)\n",
        "train_sq= tok.texts_to_sequences(x_train)\n",
        "test_sq= tok.texts_to_sequences(x_test)\n",
        "print (f'size of vocab is {len(tok.word_index)}')"
      ],
      "metadata": {
        "colab": {
          "base_uri": "https://localhost:8080/"
        },
        "id": "IoJlOjphZcd3",
        "outputId": "684657fd-671c-4cbd-af29-de4b5cf1aed1"
      },
      "execution_count": null,
      "outputs": [
        {
          "output_type": "stream",
          "name": "stdout",
          "text": [
            "size of vocab is 42654\n"
          ]
        }
      ]
    },
    {
      "cell_type": "code",
      "source": [
        "leng = df['tweet_text'].apply(len)\n",
        "\n",
        "avg_len = leng.mean()"
      ],
      "metadata": {
        "id": "KL-nC5qFZlzu"
      },
      "execution_count": null,
      "outputs": []
    },
    {
      "cell_type": "code",
      "source": [
        "avg_len"
      ],
      "metadata": {
        "colab": {
          "base_uri": "https://localhost:8080/"
        },
        "id": "2zZd6RfYZ5lv",
        "outputId": "c2968e10-1d26-4fcc-99bb-9fe7d5fad559"
      },
      "execution_count": null,
      "outputs": [
        {
          "output_type": "execute_result",
          "data": {
            "text/plain": [
              "127.60639100897426"
            ]
          },
          "metadata": {},
          "execution_count": 18
        }
      ]
    },
    {
      "cell_type": "code",
      "source": [
        "max_sq_len= 110\n",
        "vocab= len(tok.word_index)\n",
        "embd_size= 130\n",
        "train_sq= pad_sequences(train_sq, maxlen= max_sq_len, padding ='post', truncating='post')\n",
        "test_sq= pad_sequences(test_sq, maxlen= max_sq_len, padding = 'post', truncating='post')"
      ],
      "metadata": {
        "id": "Zz88UcKFZ69A"
      },
      "execution_count": null,
      "outputs": []
    },
    {
      "cell_type": "code",
      "source": [
        "from keras.layers import GlobalAveragePooling1D\n",
        "\n",
        "model = Sequential()\n",
        "model.add(Embedding(input_dim=vocab, output_dim=embd_size, input_length=max_sq_len))\n",
        "model.add(GlobalAveragePooling1D())\n",
        "model.add(Dense(15, activation='relu'))\n",
        "\n",
        "model.add(Dense(1, activation='sigmoid'))\n",
        "model.compile(optimizer='adam', loss='binary_crossentropy', metrics=['accuracy'])\n",
        "model.fit(train_sq, y_train, epochs=10, validation_data=(test_sq, y_test))\n"
      ],
      "metadata": {
        "colab": {
          "base_uri": "https://localhost:8080/"
        },
        "id": "vPQnEicraMIS",
        "outputId": "ac5344ff-c0a8-4b66-8971-a0eea6b570dd"
      },
      "execution_count": null,
      "outputs": [
        {
          "output_type": "stream",
          "name": "stdout",
          "text": [
            "Epoch 1/10\n",
            "1193/1193 [==============================] - 92s 76ms/step - loss: 0.3461 - accuracy: 0.8416 - val_loss: 0.2914 - val_accuracy: 0.8465\n",
            "Epoch 2/10\n",
            "1193/1193 [==============================] - 85s 71ms/step - loss: 0.2601 - accuracy: 0.8645 - val_loss: 0.2769 - val_accuracy: 0.8479\n",
            "Epoch 3/10\n",
            "1193/1193 [==============================] - 87s 73ms/step - loss: 0.2329 - accuracy: 0.8828 - val_loss: 0.2804 - val_accuracy: 0.8488\n",
            "Epoch 4/10\n",
            "1193/1193 [==============================] - 87s 73ms/step - loss: 0.2127 - accuracy: 0.8952 - val_loss: 0.2926 - val_accuracy: 0.8502\n",
            "Epoch 5/10\n",
            "1193/1193 [==============================] - 88s 74ms/step - loss: 0.2003 - accuracy: 0.9028 - val_loss: 0.3054 - val_accuracy: 0.8442\n",
            "Epoch 6/10\n",
            "1193/1193 [==============================] - 88s 74ms/step - loss: 0.1892 - accuracy: 0.9062 - val_loss: 0.3211 - val_accuracy: 0.8470\n",
            "Epoch 7/10\n",
            "1193/1193 [==============================] - 91s 76ms/step - loss: 0.1794 - accuracy: 0.9119 - val_loss: 0.3416 - val_accuracy: 0.8469\n",
            "Epoch 8/10\n",
            "1193/1193 [==============================] - 87s 73ms/step - loss: 0.1714 - accuracy: 0.9161 - val_loss: 0.3743 - val_accuracy: 0.8527\n",
            "Epoch 9/10\n",
            "1193/1193 [==============================] - 86s 72ms/step - loss: 0.1655 - accuracy: 0.9176 - val_loss: 0.3759 - val_accuracy: 0.8392\n",
            "Epoch 10/10\n",
            "1193/1193 [==============================] - 93s 78ms/step - loss: 0.1602 - accuracy: 0.9206 - val_loss: 0.3935 - val_accuracy: 0.8358\n"
          ]
        },
        {
          "output_type": "execute_result",
          "data": {
            "text/plain": [
              "<keras.src.callbacks.History at 0x784fa86fbb50>"
            ]
          },
          "metadata": {},
          "execution_count": 21
        }
      ]
    },
    {
      "cell_type": "code",
      "source": [
        "\n",
        "loss, accuracy = model.evaluate(test_sq, y_test)\n",
        "\n",
        "print(\"Test Loss:\", loss)\n",
        "print(\"Test Accuracy:\", accuracy)\n"
      ],
      "metadata": {
        "colab": {
          "base_uri": "https://localhost:8080/"
        },
        "id": "iuPsyshyaMhn",
        "outputId": "3e340f84-d358-48a8-d6d1-6fcc885a4a4e"
      },
      "execution_count": null,
      "outputs": [
        {
          "output_type": "stream",
          "name": "stdout",
          "text": [
            "299/299 [==============================] - 1s 2ms/step - loss: 2.5962 - accuracy: 0.8298\n",
            "Test Loss: 2.596158504486084\n",
            "Test Accuracy: 0.8297515511512756\n"
          ]
        }
      ]
    }
  ]
}